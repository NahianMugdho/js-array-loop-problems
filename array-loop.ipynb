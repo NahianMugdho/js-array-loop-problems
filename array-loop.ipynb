{
 "cells": [
  {
   "cell_type": "markdown",
   "metadata": {},
   "source": [
    "### Task 1\n",
    "\n",
    "Write a JavaScript code to reverse the array colors `without using the reverse method`.\n",
    "\n",
    "**Input:**\n",
    "`const colors = ['red', 'blue', 'green', 'yellow', 'orange']`\n",
    "\n",
    "**Output:**\n",
    "\n",
    "`['orange', 'yellow', 'green', 'blue', 'red']`"
   ]
  },
  {
   "cell_type": "code",
   "execution_count": 4,
   "metadata": {
    "dotnet_interactive": {
     "language": "javascript"
    },
    "polyglot_notebook": {
     "kernelName": "javascript"
    },
    "vscode": {
     "languageId": "polyglot-notebook"
    }
   },
   "outputs": [
    {
     "data": {
      "application/json": [
       "orange",
       "yellow",
       "green",
       "blue",
       "red"
      ]
     },
     "metadata": {},
     "output_type": "display_data"
    }
   ],
   "source": [
    "const colors = ['red','blue','green','yellow','orange'];\n",
    "const new_col = [];\n",
    "for(let i=colors.length-1;i>=0;i--)\n",
    "{\n",
    "   new_el = colors[i];\n",
    "   new_col.push(new_el)\n",
    "\n",
    "}\n",
    "console.log(new_col)"
   ]
  },
  {
   "cell_type": "markdown",
   "metadata": {},
   "source": [
    "### Task 2\n",
    "\n",
    "Write a JavaScript code to get the even numbers from an array using any looping technique.\n",
    "\n",
    "**Input:**\n",
    "`const numbers = [12, 98, 5, 41, 23, 78, 46];`\n",
    "\n",
    "**Output:**\n",
    "\n",
    "`[12, 98, 76, 46]`\n"
   ]
  },
  {
   "cell_type": "code",
   "execution_count": 5,
   "metadata": {
    "dotnet_interactive": {
     "language": "javascript"
    },
    "polyglot_notebook": {
     "kernelName": "javascript"
    },
    "vscode": {
     "languageId": "polyglot-notebook"
    }
   },
   "outputs": [
    {
     "data": {
      "application/json": [
       12,
       98,
       78,
       46
      ]
     },
     "metadata": {},
     "output_type": "display_data"
    }
   ],
   "source": [
    "const numbers = [12, 98, 5, 41, 23, 78, 46];\n",
    "const new_num=[];\n",
    "let i = 0;\n",
    "while(i<numbers.length)\n",
    "{\n",
    "    n = numbers[i];\n",
    "    if (n%2==0)\n",
    "    {\n",
    "        new_num.push(n)\n",
    "    }\n",
    "    i++;\n",
    "\n",
    "}\n",
    "console.log(new_num)"
   ]
  },
  {
   "cell_type": "markdown",
   "metadata": {},
   "source": [
    "### Task 3\n",
    "\n",
    "Use a for...of loop to concatenate all the elements of an array into a single string.\n",
    "\n",
    "**Input:**\n",
    "`var numbers = ['Tom', 'Tim', 'Tin', 'Tik']`\n",
    "\n",
    "**Output:**\n",
    "\n",
    "`'TomTimTinTik'`"
   ]
  },
  {
   "cell_type": "code",
   "execution_count": 8,
   "metadata": {
    "dotnet_interactive": {
     "language": "javascript"
    },
    "polyglot_notebook": {
     "kernelName": "javascript"
    },
    "vscode": {
     "languageId": "polyglot-notebook"
    }
   },
   "outputs": [
    {
     "data": {
      "text/plain": [
       "TomTimTinTik"
      ]
     },
     "metadata": {},
     "output_type": "display_data"
    }
   ],
   "source": [
    "// var numbers = ['Tom', 'Tim', 'Tin', 'Tik']\n",
    "// new_x = numbers[0]+numbers[1]+numbers[2]+numbers[3];\n",
    "// console.log(new_x)\n",
    "var numbers = ['Tom', 'Tim', 'Tin', 'Tik']\n",
    "// new_x = numbers[0]+numbers[1]+numbers[2]+numbers[3];\n",
    "// console.log(new_x)\n",
    "let result =''\n",
    "for (const item of numbers){\n",
    "     result = result + item; \n",
    "}\n",
    "console.log(result)"
   ]
  }
 ],
 "metadata": {
  "kernelspec": {
   "display_name": ".NET (C#)",
   "language": "C#",
   "name": ".net-csharp"
  },
  "language_info": {
   "name": "python"
  },
  "polyglot_notebook": {
   "kernelInfo": {
    "defaultKernelName": "csharp",
    "items": [
     {
      "aliases": [],
      "name": "csharp"
     }
    ]
   }
  }
 },
 "nbformat": 4,
 "nbformat_minor": 2
}
